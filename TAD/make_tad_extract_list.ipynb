{
 "cells": [
  {
   "cell_type": "code",
   "execution_count": 1,
   "id": "bfa011c7",
   "metadata": {},
   "outputs": [],
   "source": [
    "import glob"
   ]
  },
  {
   "cell_type": "code",
   "execution_count": 2,
   "id": "306b96d7",
   "metadata": {},
   "outputs": [],
   "source": [
    "data_path = '/home/fitz_joye/VideoMAEv2/data/assembly101/resized'"
   ]
  },
  {
   "cell_type": "code",
   "execution_count": 3,
   "id": "72c45a01",
   "metadata": {},
   "outputs": [],
   "source": [
    "datalist = glob.glob('*/*.mp4',root_dir=data_path, recursive=True)\n",
    "datalist.sort()"
   ]
  },
  {
   "cell_type": "code",
   "execution_count": 4,
   "id": "ba745bc3",
   "metadata": {},
   "outputs": [
    {
     "data": {
      "text/plain": [
       "(4321,\n",
       " ['nusar-2021_action_both_9011-a01_9011_user_id_2021-02-01_153724/C10095_rgb.mp4',\n",
       "  'nusar-2021_action_both_9011-a01_9011_user_id_2021-02-01_153724/C10115_rgb.mp4',\n",
       "  'nusar-2021_action_both_9011-a01_9011_user_id_2021-02-01_153724/C10118_rgb.mp4',\n",
       "  'nusar-2021_action_both_9011-a01_9011_user_id_2021-02-01_153724/C10119_rgb.mp4',\n",
       "  'nusar-2021_action_both_9011-a01_9011_user_id_2021-02-01_153724/C10379_rgb.mp4',\n",
       "  'nusar-2021_action_both_9011-a01_9011_user_id_2021-02-01_153724/C10390_rgb.mp4',\n",
       "  'nusar-2021_action_both_9011-a01_9011_user_id_2021-02-01_153724/C10395_rgb.mp4',\n",
       "  'nusar-2021_action_both_9011-a01_9011_user_id_2021-02-01_153724/C10404_rgb.mp4',\n",
       "  'nusar-2021_action_both_9011-a01_9011_user_id_2021-02-01_153724/HMC_84346135_mono10bit.mp4',\n",
       "  'nusar-2021_action_both_9011-a01_9011_user_id_2021-02-01_153724/HMC_84347414_mono10bit.mp4',\n",
       "  'nusar-2021_action_both_9011-a01_9011_user_id_2021-02-01_153724/HMC_84355350_mono10bit.mp4',\n",
       "  'nusar-2021_action_both_9011-a01_9011_user_id_2021-02-01_153724/HMC_84358933_mono10bit.mp4',\n",
       "  'nusar-2021_action_both_9011-b06b_9011_user_id_2021-02-01_154253/C10095_rgb.mp4',\n",
       "  'nusar-2021_action_both_9011-b06b_9011_user_id_2021-02-01_154253/C10115_rgb.mp4',\n",
       "  'nusar-2021_action_both_9011-b06b_9011_user_id_2021-02-01_154253/C10118_rgb.mp4',\n",
       "  'nusar-2021_action_both_9011-b06b_9011_user_id_2021-02-01_154253/C10119_rgb.mp4',\n",
       "  'nusar-2021_action_both_9011-b06b_9011_user_id_2021-02-01_154253/C10379_rgb.mp4',\n",
       "  'nusar-2021_action_both_9011-b06b_9011_user_id_2021-02-01_154253/C10390_rgb.mp4',\n",
       "  'nusar-2021_action_both_9011-b06b_9011_user_id_2021-02-01_154253/C10395_rgb.mp4',\n",
       "  'nusar-2021_action_both_9011-b06b_9011_user_id_2021-02-01_154253/C10404_rgb.mp4',\n",
       "  'nusar-2021_action_both_9011-b06b_9011_user_id_2021-02-01_154253/HMC_84346135_mono10bit.mp4',\n",
       "  'nusar-2021_action_both_9011-b06b_9011_user_id_2021-02-01_154253/HMC_84347414_mono10bit.mp4',\n",
       "  'nusar-2021_action_both_9011-b06b_9011_user_id_2021-02-01_154253/HMC_84355350_mono10bit.mp4',\n",
       "  'nusar-2021_action_both_9011-b06b_9011_user_id_2021-02-01_154253/HMC_84358933_mono10bit.mp4',\n",
       "  'nusar-2021_action_both_9011-b08c_9011_user_id_2021-02-01_154736/C10095_rgb.mp4',\n",
       "  'nusar-2021_action_both_9011-b08c_9011_user_id_2021-02-01_154736/C10115_rgb.mp4',\n",
       "  'nusar-2021_action_both_9011-b08c_9011_user_id_2021-02-01_154736/C10118_rgb.mp4',\n",
       "  'nusar-2021_action_both_9011-b08c_9011_user_id_2021-02-01_154736/C10119_rgb.mp4',\n",
       "  'nusar-2021_action_both_9011-b08c_9011_user_id_2021-02-01_154736/C10379_rgb.mp4',\n",
       "  'nusar-2021_action_both_9011-b08c_9011_user_id_2021-02-01_154736/C10390_rgb.mp4',\n",
       "  'nusar-2021_action_both_9011-b08c_9011_user_id_2021-02-01_154736/C10395_rgb.mp4',\n",
       "  'nusar-2021_action_both_9011-b08c_9011_user_id_2021-02-01_154736/C10404_rgb.mp4',\n",
       "  'nusar-2021_action_both_9011-b08c_9011_user_id_2021-02-01_154736/HMC_84346135_mono10bit.mp4',\n",
       "  'nusar-2021_action_both_9011-b08c_9011_user_id_2021-02-01_154736/HMC_84347414_mono10bit.mp4',\n",
       "  'nusar-2021_action_both_9011-b08c_9011_user_id_2021-02-01_154736/HMC_84355350_mono10bit.mp4',\n",
       "  'nusar-2021_action_both_9011-b08c_9011_user_id_2021-02-01_154736/HMC_84358933_mono10bit.mp4',\n",
       "  'nusar-2021_action_both_9011-c01c_9011_user_id_2021-02-01_155620/C10095_rgb.mp4',\n",
       "  'nusar-2021_action_both_9011-c01c_9011_user_id_2021-02-01_155620/C10115_rgb.mp4',\n",
       "  'nusar-2021_action_both_9011-c01c_9011_user_id_2021-02-01_155620/C10118_rgb.mp4',\n",
       "  'nusar-2021_action_both_9011-c01c_9011_user_id_2021-02-01_155620/C10119_rgb.mp4',\n",
       "  'nusar-2021_action_both_9011-c01c_9011_user_id_2021-02-01_155620/C10379_rgb.mp4',\n",
       "  'nusar-2021_action_both_9011-c01c_9011_user_id_2021-02-01_155620/C10390_rgb.mp4',\n",
       "  'nusar-2021_action_both_9011-c01c_9011_user_id_2021-02-01_155620/C10395_rgb.mp4',\n",
       "  'nusar-2021_action_both_9011-c01c_9011_user_id_2021-02-01_155620/C10404_rgb.mp4',\n",
       "  'nusar-2021_action_both_9011-c01c_9011_user_id_2021-02-01_155620/HMC_84346135_mono10bit.mp4',\n",
       "  'nusar-2021_action_both_9011-c01c_9011_user_id_2021-02-01_155620/HMC_84347414_mono10bit.mp4',\n",
       "  'nusar-2021_action_both_9011-c01c_9011_user_id_2021-02-01_155620/HMC_84355350_mono10bit.mp4',\n",
       "  'nusar-2021_action_both_9011-c01c_9011_user_id_2021-02-01_155620/HMC_84358933_mono10bit.mp4',\n",
       "  'nusar-2021_action_both_9011-c03f_9011_user_id_2021-02-01_160239/C10095_rgb.mp4',\n",
       "  'nusar-2021_action_both_9011-c03f_9011_user_id_2021-02-01_160239/C10115_rgb.mp4',\n",
       "  'nusar-2021_action_both_9011-c03f_9011_user_id_2021-02-01_160239/C10118_rgb.mp4',\n",
       "  'nusar-2021_action_both_9011-c03f_9011_user_id_2021-02-01_160239/C10119_rgb.mp4',\n",
       "  'nusar-2021_action_both_9011-c03f_9011_user_id_2021-02-01_160239/C10379_rgb.mp4',\n",
       "  'nusar-2021_action_both_9011-c03f_9011_user_id_2021-02-01_160239/C10390_rgb.mp4',\n",
       "  'nusar-2021_action_both_9011-c03f_9011_user_id_2021-02-01_160239/C10395_rgb.mp4',\n",
       "  'nusar-2021_action_both_9011-c03f_9011_user_id_2021-02-01_160239/C10404_rgb.mp4',\n",
       "  'nusar-2021_action_both_9011-c03f_9011_user_id_2021-02-01_160239/HMC_84346135_mono10bit.mp4',\n",
       "  'nusar-2021_action_both_9011-c03f_9011_user_id_2021-02-01_160239/HMC_84347414_mono10bit.mp4',\n",
       "  'nusar-2021_action_both_9011-c03f_9011_user_id_2021-02-01_160239/HMC_84355350_mono10bit.mp4',\n",
       "  'nusar-2021_action_both_9011-c03f_9011_user_id_2021-02-01_160239/HMC_84358933_mono10bit.mp4',\n",
       "  'nusar-2021_action_both_9011-c13b_9011_user_id_2021-02-01_160915/C10095_rgb.mp4',\n",
       "  'nusar-2021_action_both_9011-c13b_9011_user_id_2021-02-01_160915/C10115_rgb.mp4',\n",
       "  'nusar-2021_action_both_9011-c13b_9011_user_id_2021-02-01_160915/C10118_rgb.mp4',\n",
       "  'nusar-2021_action_both_9011-c13b_9011_user_id_2021-02-01_160915/C10119_rgb.mp4',\n",
       "  'nusar-2021_action_both_9011-c13b_9011_user_id_2021-02-01_160915/C10379_rgb.mp4',\n",
       "  'nusar-2021_action_both_9011-c13b_9011_user_id_2021-02-01_160915/C10390_rgb.mp4',\n",
       "  'nusar-2021_action_both_9011-c13b_9011_user_id_2021-02-01_160915/C10395_rgb.mp4',\n",
       "  'nusar-2021_action_both_9011-c13b_9011_user_id_2021-02-01_160915/C10404_rgb.mp4',\n",
       "  'nusar-2021_action_both_9011-c13b_9011_user_id_2021-02-01_160915/HMC_84346135_mono10bit.mp4',\n",
       "  'nusar-2021_action_both_9011-c13b_9011_user_id_2021-02-01_160915/HMC_84347414_mono10bit.mp4',\n",
       "  'nusar-2021_action_both_9011-c13b_9011_user_id_2021-02-01_160915/HMC_84355350_mono10bit.mp4',\n",
       "  'nusar-2021_action_both_9011-c13b_9011_user_id_2021-02-01_160915/HMC_84358933_mono10bit.mp4',\n",
       "  'nusar-2021_action_both_9012-a16_9012_user_id_2021-02-01_162904/C10095_rgb.mp4',\n",
       "  'nusar-2021_action_both_9012-a16_9012_user_id_2021-02-01_162904/C10115_rgb.mp4',\n",
       "  'nusar-2021_action_both_9012-a16_9012_user_id_2021-02-01_162904/C10118_rgb.mp4',\n",
       "  'nusar-2021_action_both_9012-a16_9012_user_id_2021-02-01_162904/C10119_rgb.mp4',\n",
       "  'nusar-2021_action_both_9012-a16_9012_user_id_2021-02-01_162904/C10379_rgb.mp4',\n",
       "  'nusar-2021_action_both_9012-a16_9012_user_id_2021-02-01_162904/C10390_rgb.mp4',\n",
       "  'nusar-2021_action_both_9012-a16_9012_user_id_2021-02-01_162904/C10395_rgb.mp4',\n",
       "  'nusar-2021_action_both_9012-a16_9012_user_id_2021-02-01_162904/C10404_rgb.mp4',\n",
       "  'nusar-2021_action_both_9012-a16_9012_user_id_2021-02-01_162904/HMC_84346135_mono10bit.mp4',\n",
       "  'nusar-2021_action_both_9012-a16_9012_user_id_2021-02-01_162904/HMC_84347414_mono10bit.mp4',\n",
       "  'nusar-2021_action_both_9012-a16_9012_user_id_2021-02-01_162904/HMC_84355350_mono10bit.mp4',\n",
       "  'nusar-2021_action_both_9012-a16_9012_user_id_2021-02-01_162904/HMC_84358933_mono10bit.mp4',\n",
       "  'nusar-2021_action_both_9012-a17_9012_user_id_2021-02-01_162209/C10095_rgb.mp4',\n",
       "  'nusar-2021_action_both_9012-a17_9012_user_id_2021-02-01_162209/C10115_rgb.mp4',\n",
       "  'nusar-2021_action_both_9012-a17_9012_user_id_2021-02-01_162209/C10118_rgb.mp4',\n",
       "  'nusar-2021_action_both_9012-a17_9012_user_id_2021-02-01_162209/C10119_rgb.mp4',\n",
       "  'nusar-2021_action_both_9012-a17_9012_user_id_2021-02-01_162209/C10379_rgb.mp4',\n",
       "  'nusar-2021_action_both_9012-a17_9012_user_id_2021-02-01_162209/C10390_rgb.mp4',\n",
       "  'nusar-2021_action_both_9012-a17_9012_user_id_2021-02-01_162209/C10395_rgb.mp4',\n",
       "  'nusar-2021_action_both_9012-a17_9012_user_id_2021-02-01_162209/C10404_rgb.mp4',\n",
       "  'nusar-2021_action_both_9012-a17_9012_user_id_2021-02-01_162209/HMC_84346135_mono10bit.mp4',\n",
       "  'nusar-2021_action_both_9012-a17_9012_user_id_2021-02-01_162209/HMC_84347414_mono10bit.mp4',\n",
       "  'nusar-2021_action_both_9012-a17_9012_user_id_2021-02-01_162209/HMC_84355350_mono10bit.mp4',\n",
       "  'nusar-2021_action_both_9012-a17_9012_user_id_2021-02-01_162209/HMC_84358933_mono10bit.mp4',\n",
       "  'nusar-2021_action_both_9012-b06d_9012_user_id_2021-02-01_163713/C10095_rgb.mp4',\n",
       "  'nusar-2021_action_both_9012-b06d_9012_user_id_2021-02-01_163713/C10115_rgb.mp4',\n",
       "  'nusar-2021_action_both_9012-b06d_9012_user_id_2021-02-01_163713/C10118_rgb.mp4',\n",
       "  'nusar-2021_action_both_9012-b06d_9012_user_id_2021-02-01_163713/C10119_rgb.mp4'])"
      ]
     },
     "execution_count": 4,
     "metadata": {},
     "output_type": "execute_result"
    }
   ],
   "source": [
    "len(datalist), datalist[:100]"
   ]
  },
  {
   "cell_type": "code",
   "execution_count": 5,
   "id": "a9e2a8fb",
   "metadata": {},
   "outputs": [
    {
     "name": "stdout",
     "output_type": "stream",
     "text": [
      "part_0.txt written with 541 items\n",
      "part_1.txt written with 540 items\n",
      "part_2.txt written with 540 items\n",
      "part_3.txt written with 540 items\n",
      "part_4.txt written with 540 items\n",
      "part_5.txt written with 540 items\n",
      "part_6.txt written with 540 items\n",
      "part_7.txt written with 540 items\n"
     ]
    }
   ],
   "source": [
    "# split datalist into n parts\n",
    "def split_list(lst, n):\n",
    "    avg = len(lst) // n\n",
    "    rem = len(lst) % n\n",
    "    out = []\n",
    "    last = 0\n",
    "    for i in range(n):\n",
    "        if i < rem:\n",
    "            out.append(lst[last:last + avg + 1])\n",
    "            last += avg + 1\n",
    "        else:\n",
    "            out.append(lst[last:last + avg])\n",
    "            last += avg\n",
    "    return out\n",
    "# split into 4 parts\n",
    "datalist = split_list(datalist, 8)\n",
    "# write each part to a separate file\n",
    "for i, part in enumerate(datalist):\n",
    "    with open(f'part_{i}.txt', 'w') as f:\n",
    "        for item in part:\n",
    "            f.write(f'{item}\\n')\n",
    "    print(f'part_{i}.txt written with {len(part)} items')"
   ]
  },
  {
   "cell_type": "code",
   "execution_count": null,
   "id": "068cd302",
   "metadata": {},
   "outputs": [],
   "source": []
  }
 ],
 "metadata": {
  "kernelspec": {
   "display_name": "protas",
   "language": "python",
   "name": "python3"
  },
  "language_info": {
   "codemirror_mode": {
    "name": "ipython",
    "version": 3
   },
   "file_extension": ".py",
   "mimetype": "text/x-python",
   "name": "python",
   "nbconvert_exporter": "python",
   "pygments_lexer": "ipython3",
   "version": "3.10.16"
  }
 },
 "nbformat": 4,
 "nbformat_minor": 5
}
